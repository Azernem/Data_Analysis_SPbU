{
 "cells": [
  {
   "cell_type": "code",
   "execution_count": 79,
   "id": "a63a1913-835d-4da1-b2f7-f7da73de06dc",
   "metadata": {},
   "outputs": [],
   "source": [
    "import numpy as np\n",
    "import pandas as pd\n",
    "import math"
   ]
  },
  {
   "cell_type": "code",
   "execution_count": 80,
   "id": "9a082a07-59c0-49c3-be09-61efa4b88bb0",
   "metadata": {
    "scrolled": true
   },
   "outputs": [
    {
     "ename": "ParserError",
     "evalue": "Error tokenizing data. C error: Expected 1 fields in line 9, saw 4\n",
     "output_type": "error",
     "traceback": [
      "\u001b[0;31m---------------------------------------------------------------------------\u001b[0m",
      "\u001b[0;31mParserError\u001b[0m                               Traceback (most recent call last)",
      "Cell \u001b[0;32mIn[80], line 1\u001b[0m\n\u001b[0;32m----> 1\u001b[0m df \u001b[38;5;241m=\u001b[39m pd\u001b[38;5;241m.\u001b[39mread_csv(\u001b[38;5;124m'\u001b[39m\u001b[38;5;124mflat.csv\u001b[39m\u001b[38;5;124m'\u001b[39m)\n",
      "File \u001b[0;32m~/anaconda3/lib/python3.13/site-packages/pandas/io/parsers/readers.py:1026\u001b[0m, in \u001b[0;36mread_csv\u001b[0;34m(filepath_or_buffer, sep, delimiter, header, names, index_col, usecols, dtype, engine, converters, true_values, false_values, skipinitialspace, skiprows, skipfooter, nrows, na_values, keep_default_na, na_filter, verbose, skip_blank_lines, parse_dates, infer_datetime_format, keep_date_col, date_parser, date_format, dayfirst, cache_dates, iterator, chunksize, compression, thousands, decimal, lineterminator, quotechar, quoting, doublequote, escapechar, comment, encoding, encoding_errors, dialect, on_bad_lines, delim_whitespace, low_memory, memory_map, float_precision, storage_options, dtype_backend)\u001b[0m\n\u001b[1;32m   1013\u001b[0m kwds_defaults \u001b[38;5;241m=\u001b[39m _refine_defaults_read(\n\u001b[1;32m   1014\u001b[0m     dialect,\n\u001b[1;32m   1015\u001b[0m     delimiter,\n\u001b[0;32m   (...)\u001b[0m\n\u001b[1;32m   1022\u001b[0m     dtype_backend\u001b[38;5;241m=\u001b[39mdtype_backend,\n\u001b[1;32m   1023\u001b[0m )\n\u001b[1;32m   1024\u001b[0m kwds\u001b[38;5;241m.\u001b[39mupdate(kwds_defaults)\n\u001b[0;32m-> 1026\u001b[0m \u001b[38;5;28;01mreturn\u001b[39;00m _read(filepath_or_buffer, kwds)\n",
      "File \u001b[0;32m~/anaconda3/lib/python3.13/site-packages/pandas/io/parsers/readers.py:626\u001b[0m, in \u001b[0;36m_read\u001b[0;34m(filepath_or_buffer, kwds)\u001b[0m\n\u001b[1;32m    623\u001b[0m     \u001b[38;5;28;01mreturn\u001b[39;00m parser\n\u001b[1;32m    625\u001b[0m \u001b[38;5;28;01mwith\u001b[39;00m parser:\n\u001b[0;32m--> 626\u001b[0m     \u001b[38;5;28;01mreturn\u001b[39;00m parser\u001b[38;5;241m.\u001b[39mread(nrows)\n",
      "File \u001b[0;32m~/anaconda3/lib/python3.13/site-packages/pandas/io/parsers/readers.py:1923\u001b[0m, in \u001b[0;36mTextFileReader.read\u001b[0;34m(self, nrows)\u001b[0m\n\u001b[1;32m   1916\u001b[0m nrows \u001b[38;5;241m=\u001b[39m validate_integer(\u001b[38;5;124m\"\u001b[39m\u001b[38;5;124mnrows\u001b[39m\u001b[38;5;124m\"\u001b[39m, nrows)\n\u001b[1;32m   1917\u001b[0m \u001b[38;5;28;01mtry\u001b[39;00m:\n\u001b[1;32m   1918\u001b[0m     \u001b[38;5;66;03m# error: \"ParserBase\" has no attribute \"read\"\u001b[39;00m\n\u001b[1;32m   1919\u001b[0m     (\n\u001b[1;32m   1920\u001b[0m         index,\n\u001b[1;32m   1921\u001b[0m         columns,\n\u001b[1;32m   1922\u001b[0m         col_dict,\n\u001b[0;32m-> 1923\u001b[0m     ) \u001b[38;5;241m=\u001b[39m \u001b[38;5;28mself\u001b[39m\u001b[38;5;241m.\u001b[39m_engine\u001b[38;5;241m.\u001b[39mread(  \u001b[38;5;66;03m# type: ignore[attr-defined]\u001b[39;00m\n\u001b[1;32m   1924\u001b[0m         nrows\n\u001b[1;32m   1925\u001b[0m     )\n\u001b[1;32m   1926\u001b[0m \u001b[38;5;28;01mexcept\u001b[39;00m \u001b[38;5;167;01mException\u001b[39;00m:\n\u001b[1;32m   1927\u001b[0m     \u001b[38;5;28mself\u001b[39m\u001b[38;5;241m.\u001b[39mclose()\n",
      "File \u001b[0;32m~/anaconda3/lib/python3.13/site-packages/pandas/io/parsers/c_parser_wrapper.py:234\u001b[0m, in \u001b[0;36mCParserWrapper.read\u001b[0;34m(self, nrows)\u001b[0m\n\u001b[1;32m    232\u001b[0m \u001b[38;5;28;01mtry\u001b[39;00m:\n\u001b[1;32m    233\u001b[0m     \u001b[38;5;28;01mif\u001b[39;00m \u001b[38;5;28mself\u001b[39m\u001b[38;5;241m.\u001b[39mlow_memory:\n\u001b[0;32m--> 234\u001b[0m         chunks \u001b[38;5;241m=\u001b[39m \u001b[38;5;28mself\u001b[39m\u001b[38;5;241m.\u001b[39m_reader\u001b[38;5;241m.\u001b[39mread_low_memory(nrows)\n\u001b[1;32m    235\u001b[0m         \u001b[38;5;66;03m# destructive to chunks\u001b[39;00m\n\u001b[1;32m    236\u001b[0m         data \u001b[38;5;241m=\u001b[39m _concatenate_chunks(chunks)\n",
      "File \u001b[0;32mparsers.pyx:838\u001b[0m, in \u001b[0;36mpandas._libs.parsers.TextReader.read_low_memory\u001b[0;34m()\u001b[0m\n",
      "File \u001b[0;32mparsers.pyx:905\u001b[0m, in \u001b[0;36mpandas._libs.parsers.TextReader._read_rows\u001b[0;34m()\u001b[0m\n",
      "File \u001b[0;32mparsers.pyx:874\u001b[0m, in \u001b[0;36mpandas._libs.parsers.TextReader._tokenize_rows\u001b[0;34m()\u001b[0m\n",
      "File \u001b[0;32mparsers.pyx:891\u001b[0m, in \u001b[0;36mpandas._libs.parsers.TextReader._check_tokenize_status\u001b[0;34m()\u001b[0m\n",
      "File \u001b[0;32mparsers.pyx:2061\u001b[0m, in \u001b[0;36mpandas._libs.parsers.raise_parser_error\u001b[0;34m()\u001b[0m\n",
      "\u001b[0;31mParserError\u001b[0m: Error tokenizing data. C error: Expected 1 fields in line 9, saw 4\n"
     ]
    }
   ],
   "source": [
    "df = pd.read_csv('flat.csv')"
   ]
  },
  {
   "cell_type": "code",
   "execution_count": 81,
   "id": "b168074e-6bfd-4505-9105-b19a87815928",
   "metadata": {},
   "outputs": [
    {
     "name": "stdout",
     "output_type": "stream",
     "text": [
      "3;12;10;48000;9;1;Да;Развитая инфраструктура района\n",
      "\n"
     ]
    },
    {
     "data": {
      "text/plain": [
       "['ID',\n",
       " 'DISTANCE',\n",
       " 'STOP_COUNT',\n",
       " 'COST',\n",
       " 'FITNESS',\n",
       " 'INTERNET',\n",
       " 'PETS_ALLOWED',\n",
       " 'ADDITIONAL_INFO']"
      ]
     },
     "execution_count": 81,
     "metadata": {},
     "output_type": "execute_result"
    }
   ],
   "source": [
    "with open('flat.csv') as f:\n",
    "    columns = f.readline().strip().split(';')\n",
    "    lines = f.readlines()\n",
    "print(lines[2])\n",
    "columns"
   ]
  },
  {
   "cell_type": "code",
   "execution_count": 82,
   "id": "b16de924-d6b7-4238-be2a-f57145d9318c",
   "metadata": {
    "scrolled": true
   },
   "outputs": [
    {
     "data": {
      "text/plain": [
       "200"
      ]
     },
     "execution_count": 82,
     "metadata": {},
     "output_type": "execute_result"
    }
   ],
   "source": [
    "data = [el.strip().split(';') for el in lines]\n",
    "len(data)"
   ]
  },
  {
   "cell_type": "code",
   "execution_count": 83,
   "id": "df6455e6-9224-40b7-a25d-9450aacf309f",
   "metadata": {},
   "outputs": [
    {
     "data": {
      "text/html": [
       "<div>\n",
       "<style scoped>\n",
       "    .dataframe tbody tr th:only-of-type {\n",
       "        vertical-align: middle;\n",
       "    }\n",
       "\n",
       "    .dataframe tbody tr th {\n",
       "        vertical-align: top;\n",
       "    }\n",
       "\n",
       "    .dataframe thead th {\n",
       "        text-align: right;\n",
       "    }\n",
       "</style>\n",
       "<table border=\"1\" class=\"dataframe\">\n",
       "  <thead>\n",
       "    <tr style=\"text-align: right;\">\n",
       "      <th></th>\n",
       "      <th>ID</th>\n",
       "      <th>DISTANCE</th>\n",
       "      <th>STOP_COUNT</th>\n",
       "      <th>COST</th>\n",
       "      <th>FITNESS</th>\n",
       "      <th>INTERNET</th>\n",
       "      <th>PETS_ALLOWED</th>\n",
       "      <th>ADDITIONAL_INFO</th>\n",
       "    </tr>\n",
       "  </thead>\n",
       "  <tbody>\n",
       "    <tr>\n",
       "      <th>0</th>\n",
       "      <td>1</td>\n",
       "      <td>12</td>\n",
       "      <td>6</td>\n",
       "      <td>43000</td>\n",
       "      <td>3</td>\n",
       "      <td>4</td>\n",
       "      <td>Да</td>\n",
       "      <td></td>\n",
       "    </tr>\n",
       "    <tr>\n",
       "      <th>1</th>\n",
       "      <td>2</td>\n",
       "      <td>12</td>\n",
       "      <td>5</td>\n",
       "      <td>24000</td>\n",
       "      <td>17</td>\n",
       "      <td>0</td>\n",
       "      <td>Да</td>\n",
       "      <td></td>\n",
       "    </tr>\n",
       "    <tr>\n",
       "      <th>2</th>\n",
       "      <td>3</td>\n",
       "      <td>12</td>\n",
       "      <td>10</td>\n",
       "      <td>48000</td>\n",
       "      <td>9</td>\n",
       "      <td>1</td>\n",
       "      <td>Да</td>\n",
       "      <td>Развитая инфраструктура района</td>\n",
       "    </tr>\n",
       "    <tr>\n",
       "      <th>3</th>\n",
       "      <td>4</td>\n",
       "      <td>3</td>\n",
       "      <td>11</td>\n",
       "      <td>40000</td>\n",
       "      <td>20</td>\n",
       "      <td>1</td>\n",
       "      <td>Да</td>\n",
       "      <td></td>\n",
       "    </tr>\n",
       "    <tr>\n",
       "      <th>4</th>\n",
       "      <td>5</td>\n",
       "      <td>23</td>\n",
       "      <td>1</td>\n",
       "      <td>30000</td>\n",
       "      <td>24</td>\n",
       "      <td>3</td>\n",
       "      <td>Да</td>\n",
       "      <td></td>\n",
       "    </tr>\n",
       "  </tbody>\n",
       "</table>\n",
       "</div>"
      ],
      "text/plain": [
       "  ID DISTANCE STOP_COUNT   COST FITNESS INTERNET PETS_ALLOWED  \\\n",
       "0  1       12          6  43000       3        4           Да   \n",
       "1  2       12          5  24000      17        0           Да   \n",
       "2  3       12         10  48000       9        1           Да   \n",
       "3  4        3         11  40000      20        1           Да   \n",
       "4  5       23          1  30000      24        3           Да   \n",
       "\n",
       "                  ADDITIONAL_INFO  \n",
       "0                                  \n",
       "1                                  \n",
       "2  Развитая инфраструктура района  \n",
       "3                                  \n",
       "4                                  "
      ]
     },
     "execution_count": 83,
     "metadata": {},
     "output_type": "execute_result"
    }
   ],
   "source": [
    "df = pd.DataFrame(data)\n",
    "df.head()\n",
    "df.columns = columns\n",
    "df.head(5)"
   ]
  },
  {
   "cell_type": "code",
   "execution_count": 84,
   "id": "c94ed022-dd9b-4a28-bd23-8c579903fcb9",
   "metadata": {},
   "outputs": [
    {
     "data": {
      "text/html": [
       "<div>\n",
       "<style scoped>\n",
       "    .dataframe tbody tr th:only-of-type {\n",
       "        vertical-align: middle;\n",
       "    }\n",
       "\n",
       "    .dataframe tbody tr th {\n",
       "        vertical-align: top;\n",
       "    }\n",
       "\n",
       "    .dataframe thead th {\n",
       "        text-align: right;\n",
       "    }\n",
       "</style>\n",
       "<table border=\"1\" class=\"dataframe\">\n",
       "  <thead>\n",
       "    <tr style=\"text-align: right;\">\n",
       "      <th></th>\n",
       "      <th>ID</th>\n",
       "      <th>DISTANCE</th>\n",
       "      <th>STOP_COUNT</th>\n",
       "      <th>COST</th>\n",
       "      <th>FITNESS</th>\n",
       "      <th>INTERNET</th>\n",
       "      <th>PETS_ALLOWED</th>\n",
       "      <th>ADDITIONAL_INFO</th>\n",
       "    </tr>\n",
       "  </thead>\n",
       "  <tbody>\n",
       "    <tr>\n",
       "      <th>0</th>\n",
       "      <td>1</td>\n",
       "      <td>12</td>\n",
       "      <td>6</td>\n",
       "      <td>43000</td>\n",
       "      <td>3</td>\n",
       "      <td>4</td>\n",
       "      <td>Да</td>\n",
       "      <td>NaN</td>\n",
       "    </tr>\n",
       "    <tr>\n",
       "      <th>1</th>\n",
       "      <td>2</td>\n",
       "      <td>12</td>\n",
       "      <td>5</td>\n",
       "      <td>24000</td>\n",
       "      <td>17</td>\n",
       "      <td>0</td>\n",
       "      <td>Да</td>\n",
       "      <td>NaN</td>\n",
       "    </tr>\n",
       "    <tr>\n",
       "      <th>2</th>\n",
       "      <td>3</td>\n",
       "      <td>12</td>\n",
       "      <td>10</td>\n",
       "      <td>48000</td>\n",
       "      <td>9</td>\n",
       "      <td>1</td>\n",
       "      <td>Да</td>\n",
       "      <td>Развитая инфраструктура района</td>\n",
       "    </tr>\n",
       "  </tbody>\n",
       "</table>\n",
       "</div>"
      ],
      "text/plain": [
       "  ID DISTANCE STOP_COUNT   COST FITNESS INTERNET PETS_ALLOWED  \\\n",
       "0  1       12          6  43000       3        4           Да   \n",
       "1  2       12          5  24000      17        0           Да   \n",
       "2  3       12         10  48000       9        1           Да   \n",
       "\n",
       "                  ADDITIONAL_INFO  \n",
       "0                             NaN  \n",
       "1                             NaN  \n",
       "2  Развитая инфраструктура района  "
      ]
     },
     "execution_count": 84,
     "metadata": {},
     "output_type": "execute_result"
    }
   ],
   "source": [
    "df['ADDITIONAL_INFO'] = df['ADDITIONAL_INFO'].replace('', np.nan)\n",
    "df.head(3)"
   ]
  },
  {
   "cell_type": "code",
   "execution_count": null,
   "id": "9ad969b0-545a-42c4-be7b-843663a80be1",
   "metadata": {},
   "outputs": [],
   "source": []
  },
  {
   "cell_type": "code",
   "execution_count": 85,
   "id": "fefc9330-1ff2-414b-a172-d5790f8f2f61",
   "metadata": {},
   "outputs": [
    {
     "name": "stdout",
     "output_type": "stream",
     "text": [
      "3\n",
      "1\n",
      "20000\n",
      "3\n",
      "0\n"
     ]
    },
    {
     "data": {
      "text/html": [
       "<div>\n",
       "<style scoped>\n",
       "    .dataframe tbody tr th:only-of-type {\n",
       "        vertical-align: middle;\n",
       "    }\n",
       "\n",
       "    .dataframe tbody tr th {\n",
       "        vertical-align: top;\n",
       "    }\n",
       "\n",
       "    .dataframe thead th {\n",
       "        text-align: right;\n",
       "    }\n",
       "</style>\n",
       "<table border=\"1\" class=\"dataframe\">\n",
       "  <thead>\n",
       "    <tr style=\"text-align: right;\">\n",
       "      <th></th>\n",
       "      <th>ID</th>\n",
       "      <th>DISTANCE</th>\n",
       "      <th>STOP_COUNT</th>\n",
       "      <th>COST</th>\n",
       "      <th>FITNESS</th>\n",
       "      <th>INTERNET</th>\n",
       "      <th>PETS_ALLOWED</th>\n",
       "      <th>ADDITIONAL_INFO</th>\n",
       "    </tr>\n",
       "  </thead>\n",
       "  <tbody>\n",
       "    <tr>\n",
       "      <th>0</th>\n",
       "      <td>1</td>\n",
       "      <td>0.950213</td>\n",
       "      <td>0.993262</td>\n",
       "      <td>0.683363</td>\n",
       "      <td>0.000000</td>\n",
       "      <td>0.00</td>\n",
       "      <td>Да</td>\n",
       "      <td>NaN</td>\n",
       "    </tr>\n",
       "    <tr>\n",
       "      <th>1</th>\n",
       "      <td>2</td>\n",
       "      <td>0.950213</td>\n",
       "      <td>0.981684</td>\n",
       "      <td>0.181269</td>\n",
       "      <td>0.990596</td>\n",
       "      <td>1.00</td>\n",
       "      <td>Да</td>\n",
       "      <td>NaN</td>\n",
       "    </tr>\n",
       "    <tr>\n",
       "      <th>2</th>\n",
       "      <td>3</td>\n",
       "      <td>0.950213</td>\n",
       "      <td>0.999877</td>\n",
       "      <td>0.753403</td>\n",
       "      <td>0.864665</td>\n",
       "      <td>0.75</td>\n",
       "      <td>Да</td>\n",
       "      <td>Развитая инфраструктура района</td>\n",
       "    </tr>\n",
       "  </tbody>\n",
       "</table>\n",
       "</div>"
      ],
      "text/plain": [
       "  ID  DISTANCE  STOP_COUNT      COST   FITNESS  INTERNET PETS_ALLOWED  \\\n",
       "0  1  0.950213    0.993262  0.683363  0.000000      0.00           Да   \n",
       "1  2  0.950213    0.981684  0.181269  0.990596      1.00           Да   \n",
       "2  3  0.950213    0.999877  0.753403  0.864665      0.75           Да   \n",
       "\n",
       "                  ADDITIONAL_INFO  \n",
       "0                             NaN  \n",
       "1                             NaN  \n",
       "2  Развитая инфраструктура района  "
      ]
     },
     "execution_count": 85,
     "metadata": {},
     "output_type": "execute_result"
    }
   ],
   "source": [
    "for i in range(1, 6):\n",
    "    df[columns[i]] = df[columns[i]].apply(lambda x: int(x))\n",
    "    minEl, maxEl = df[columns[i]].min(), df[columns[i]].max()\n",
    "    print(minEl)\n",
    "    \n",
    "    if i == 5:\n",
    "        df[columns[i]] = df[columns[i]].apply(lambda x: 1 - (x - minEl) / (maxEl - minEl))\n",
    "        break\n",
    "        \n",
    "    df[columns[i]] = df[columns[i]].apply(lambda x: 1 - math.exp(1 - x / minEl))\n",
    "df.head(3)"
   ]
  },
  {
   "cell_type": "code",
   "execution_count": 86,
   "id": "6ff9494e-920d-4991-a587-f13a63b6652e",
   "metadata": {
    "scrolled": true
   },
   "outputs": [
    {
     "data": {
      "text/html": [
       "<div>\n",
       "<style scoped>\n",
       "    .dataframe tbody tr th:only-of-type {\n",
       "        vertical-align: middle;\n",
       "    }\n",
       "\n",
       "    .dataframe tbody tr th {\n",
       "        vertical-align: top;\n",
       "    }\n",
       "\n",
       "    .dataframe thead th {\n",
       "        text-align: right;\n",
       "    }\n",
       "</style>\n",
       "<table border=\"1\" class=\"dataframe\">\n",
       "  <thead>\n",
       "    <tr style=\"text-align: right;\">\n",
       "      <th></th>\n",
       "      <th>ID</th>\n",
       "      <th>DISTANCE</th>\n",
       "      <th>STOP_COUNT</th>\n",
       "      <th>COST</th>\n",
       "      <th>FITNESS</th>\n",
       "      <th>INTERNET</th>\n",
       "      <th>PETS_ALLOWED</th>\n",
       "      <th>ADDITIONAL_INFO</th>\n",
       "    </tr>\n",
       "  </thead>\n",
       "  <tbody>\n",
       "    <tr>\n",
       "      <th>0</th>\n",
       "      <td>1</td>\n",
       "      <td>0.950213</td>\n",
       "      <td>0.993262</td>\n",
       "      <td>0.683363</td>\n",
       "      <td>0.000000</td>\n",
       "      <td>0.00</td>\n",
       "      <td>Да</td>\n",
       "      <td>NaN</td>\n",
       "    </tr>\n",
       "    <tr>\n",
       "      <th>2</th>\n",
       "      <td>3</td>\n",
       "      <td>0.950213</td>\n",
       "      <td>0.999877</td>\n",
       "      <td>0.753403</td>\n",
       "      <td>0.864665</td>\n",
       "      <td>0.75</td>\n",
       "      <td>Да</td>\n",
       "      <td>Развитая инфраструктура района</td>\n",
       "    </tr>\n",
       "    <tr>\n",
       "      <th>3</th>\n",
       "      <td>4</td>\n",
       "      <td>0.000000</td>\n",
       "      <td>0.999955</td>\n",
       "      <td>0.632121</td>\n",
       "      <td>0.996541</td>\n",
       "      <td>0.75</td>\n",
       "      <td>Да</td>\n",
       "      <td>NaN</td>\n",
       "    </tr>\n",
       "  </tbody>\n",
       "</table>\n",
       "</div>"
      ],
      "text/plain": [
       "  ID  DISTANCE  STOP_COUNT      COST   FITNESS  INTERNET PETS_ALLOWED  \\\n",
       "0  1  0.950213    0.993262  0.683363  0.000000      0.00           Да   \n",
       "2  3  0.950213    0.999877  0.753403  0.864665      0.75           Да   \n",
       "3  4  0.000000    0.999955  0.632121  0.996541      0.75           Да   \n",
       "\n",
       "                  ADDITIONAL_INFO  \n",
       "0                             NaN  \n",
       "2  Развитая инфраструктура района  \n",
       "3                             NaN  "
      ]
     },
     "execution_count": 86,
     "metadata": {},
     "output_type": "execute_result"
    }
   ],
   "source": [
    "df = df[df['INTERNET'] != 1]\n",
    "df.head(3)"
   ]
  },
  {
   "cell_type": "code",
   "execution_count": 87,
   "id": "32df9b44-5ed9-4ed4-95ab-2b71e9005fe2",
   "metadata": {},
   "outputs": [
    {
     "data": {
      "text/html": [
       "<div>\n",
       "<style scoped>\n",
       "    .dataframe tbody tr th:only-of-type {\n",
       "        vertical-align: middle;\n",
       "    }\n",
       "\n",
       "    .dataframe tbody tr th {\n",
       "        vertical-align: top;\n",
       "    }\n",
       "\n",
       "    .dataframe thead th {\n",
       "        text-align: right;\n",
       "    }\n",
       "</style>\n",
       "<table border=\"1\" class=\"dataframe\">\n",
       "  <thead>\n",
       "    <tr style=\"text-align: right;\">\n",
       "      <th></th>\n",
       "      <th>ID</th>\n",
       "      <th>DISTANCE</th>\n",
       "      <th>STOP_COUNT</th>\n",
       "      <th>COST</th>\n",
       "      <th>FITNESS</th>\n",
       "      <th>INTERNET</th>\n",
       "      <th>PETS_ALLOWED</th>\n",
       "      <th>ADDITIONAL_INFO</th>\n",
       "      <th>Target_func_Artem</th>\n",
       "    </tr>\n",
       "  </thead>\n",
       "  <tbody>\n",
       "    <tr>\n",
       "      <th>18</th>\n",
       "      <td>19</td>\n",
       "      <td>0.000000</td>\n",
       "      <td>0.0</td>\n",
       "      <td>0.048771</td>\n",
       "      <td>0.974438</td>\n",
       "      <td>0.50</td>\n",
       "      <td>Нет</td>\n",
       "      <td>NaN</td>\n",
       "      <td>1.523209</td>\n",
       "    </tr>\n",
       "    <tr>\n",
       "      <th>70</th>\n",
       "      <td>71</td>\n",
       "      <td>0.283469</td>\n",
       "      <td>0.0</td>\n",
       "      <td>0.048771</td>\n",
       "      <td>0.964326</td>\n",
       "      <td>0.25</td>\n",
       "      <td>Нет</td>\n",
       "      <td>Закрытый двор без машин с собственным освещен...</td>\n",
       "      <td>1.546565</td>\n",
       "    </tr>\n",
       "    <tr>\n",
       "      <th>55</th>\n",
       "      <td>56</td>\n",
       "      <td>0.950213</td>\n",
       "      <td>0.0</td>\n",
       "      <td>0.807950</td>\n",
       "      <td>0.000000</td>\n",
       "      <td>0.00</td>\n",
       "      <td>Нет</td>\n",
       "      <td>Подземный паркинг</td>\n",
       "      <td>1.758163</td>\n",
       "    </tr>\n",
       "  </tbody>\n",
       "</table>\n",
       "</div>"
      ],
      "text/plain": [
       "    ID  DISTANCE  STOP_COUNT      COST   FITNESS  INTERNET PETS_ALLOWED  \\\n",
       "18  19  0.000000         0.0  0.048771  0.974438      0.50          Нет   \n",
       "70  71  0.283469         0.0  0.048771  0.964326      0.25          Нет   \n",
       "55  56  0.950213         0.0  0.807950  0.000000      0.00          Нет   \n",
       "\n",
       "                                      ADDITIONAL_INFO  Target_func_Artem  \n",
       "18                                                NaN           1.523209  \n",
       "70   Закрытый двор без машин с собственным освещен...           1.546565  \n",
       "55                                  Подземный паркинг           1.758163  "
      ]
     },
     "execution_count": 87,
     "metadata": {},
     "output_type": "execute_result"
    }
   ],
   "source": [
    "df['Target_func_Artem'] = df[columns[1:6]].sum(axis = 1)\n",
    "df_for_Artem = df.sort_values('Target_func_Artem')\n",
    "df_for_Artem['ID'] = df_for_Artem['ID'].apply(lambda x: int(x))\n",
    "df_for_Artem['ID'].iloc[:3]\n",
    "df_for_Artem.head(3)"
   ]
  },
  {
   "cell_type": "code",
   "execution_count": 88,
   "id": "7d853c78-4de7-4283-8549-310c0ce1a519",
   "metadata": {},
   "outputs": [],
   "source": [
    "#df['PETS_ALLOWED'] = df['PETS_ALLOWED'].replace('Да', 0).replace('Нет', 10)\n",
    "df = df[df['PETS_ALLOWED'] == 'Да']\n"
   ]
  },
  {
   "cell_type": "code",
   "execution_count": 89,
   "id": "7a99cca4-9175-4485-af3f-ae02ea1dde4d",
   "metadata": {},
   "outputs": [
    {
     "data": {
      "text/plain": [
       "ADDITIONAL_INFO\n",
       "Исторический центр Санкт-Петербурга.                                                                                                                              10\n",
       "Развитая инфраструктура района                                                                                                                                     5\n",
       "Подземный паркинг                                                                                                                                                  4\n",
       "Внутренний двор с ландшафтным озеленением, игровыми и спортивными зонами для отдыха, площадка для выгула собак.                                                    3\n",
       "Панорама с видом на парк Сосновка.                                                                                                                                 3\n",
       "Огороженная площадка для дрессировки собак на территории парка отдыха.                                                                                             3\n",
       "Парк отдыха со специально оборудованными зонами для игры с домашними питомцами.                                                                                    2\n",
       "Внутренний двор с игровыми и спортивными зонами для отдыха, огороженная дрессировочная площадка для собак.                                                         2\n",
       "Огромная продуманная территория с тематическими зонами, а также 2 муниципальных детских сада и школа, ветклиника для четвероногих питомцев.                        2\n",
       "Для юных жителей будет обустроена велодорожка, для любителей домашних животных – зона для игр и дрессировки питомцев.                                              2\n",
       "Для прогулки и тренировок с любимыми четвероногими доступна благоустроенная придомовая территория.                                                                 2\n",
       "В пешей доступности Муринский парк, Сад «Прометей», сквер Конашевича и другие зоны отдыха                                                                          1\n",
       "Находится в историческом районе сталинской застройки «Ланской» в окружении многочисленных парков.                                                                  1\n",
       "Тематические зоны во дворе: всепогодные игровые площадки и беседки, места для уединенного отдыха, спорта, прогулок                                                 1\n",
       " В ближайшем окружении работают детские сады, школы, гимназии, спортклубы, бассейны, супермаркеты, рестораны, банк, есть место для выгула четвероногих друзей.     1\n",
       "Всепогодные игровые площадки и беседки, места для спорта, прогулок, выгула собак                                                                                   1\n",
       "Огороженная площадка для дрессировки собак на территории парка отдыха                                                                                              1\n",
       " Закрытый двор без машин с собственным освещением, посты охраны, детская и спортивная площадки, зона для барбекю, оборудованные площадки для отдыха.               1\n",
       "Детские игровые площадки, зона отдыха с качелями, площадка для выгула собак, футбольное поле и волейбольно-баскетбольная площадка.                                 1\n",
       "Name: count, dtype: int64"
      ]
     },
     "execution_count": 89,
     "metadata": {},
     "output_type": "execute_result"
    }
   ],
   "source": [
    "df.head(3)\n",
    "df['ADDITIONAL_INFO'].value_counts()"
   ]
  },
  {
   "cell_type": "code",
   "execution_count": 77,
   "id": "1c1e47b7-b6b4-4d0a-823d-2df2fed6a9b7",
   "metadata": {},
   "outputs": [
    {
     "data": {
      "text/html": [
       "<div>\n",
       "<style scoped>\n",
       "    .dataframe tbody tr th:only-of-type {\n",
       "        vertical-align: middle;\n",
       "    }\n",
       "\n",
       "    .dataframe tbody tr th {\n",
       "        vertical-align: top;\n",
       "    }\n",
       "\n",
       "    .dataframe thead th {\n",
       "        text-align: right;\n",
       "    }\n",
       "</style>\n",
       "<table border=\"1\" class=\"dataframe\">\n",
       "  <thead>\n",
       "    <tr style=\"text-align: right;\">\n",
       "      <th></th>\n",
       "      <th>ID</th>\n",
       "      <th>DISTANCE</th>\n",
       "      <th>STOP_COUNT</th>\n",
       "      <th>COST</th>\n",
       "      <th>FITNESS</th>\n",
       "      <th>INTERNET</th>\n",
       "      <th>PETS_ALLOWED</th>\n",
       "      <th>ADDITIONAL_INFO</th>\n",
       "      <th>Target_func_Artem</th>\n",
       "      <th>Target_func_Ann</th>\n",
       "    </tr>\n",
       "  </thead>\n",
       "  <tbody>\n",
       "    <tr>\n",
       "      <th>149</th>\n",
       "      <td>150</td>\n",
       "      <td>0.283469</td>\n",
       "      <td>0.000000</td>\n",
       "      <td>0.683363</td>\n",
       "      <td>0.997521</td>\n",
       "      <td>0.00</td>\n",
       "      <td>Да</td>\n",
       "      <td>0</td>\n",
       "      <td>1.964353</td>\n",
       "      <td>1.964353</td>\n",
       "    </tr>\n",
       "    <tr>\n",
       "      <th>142</th>\n",
       "      <td>143</td>\n",
       "      <td>0.000000</td>\n",
       "      <td>0.864665</td>\n",
       "      <td>0.787752</td>\n",
       "      <td>0.000000</td>\n",
       "      <td>0.25</td>\n",
       "      <td>Да</td>\n",
       "      <td>1</td>\n",
       "      <td>1.902417</td>\n",
       "      <td>2.902417</td>\n",
       "    </tr>\n",
       "    <tr>\n",
       "      <th>193</th>\n",
       "      <td>194</td>\n",
       "      <td>0.486583</td>\n",
       "      <td>0.993262</td>\n",
       "      <td>0.423050</td>\n",
       "      <td>0.000000</td>\n",
       "      <td>0.00</td>\n",
       "      <td>Да</td>\n",
       "      <td>1</td>\n",
       "      <td>1.902895</td>\n",
       "      <td>2.902895</td>\n",
       "    </tr>\n",
       "  </tbody>\n",
       "</table>\n",
       "</div>"
      ],
      "text/plain": [
       "      ID  DISTANCE  STOP_COUNT      COST   FITNESS  INTERNET PETS_ALLOWED  \\\n",
       "149  150  0.283469    0.000000  0.683363  0.997521      0.00           Да   \n",
       "142  143  0.000000    0.864665  0.787752  0.000000      0.25           Да   \n",
       "193  194  0.486583    0.993262  0.423050  0.000000      0.00           Да   \n",
       "\n",
       "     ADDITIONAL_INFO  Target_func_Artem  Target_func_Ann  \n",
       "149                0           1.964353         1.964353  \n",
       "142                1           1.902417         2.902417  \n",
       "193                1           1.902895         2.902895  "
      ]
     },
     "execution_count": 77,
     "metadata": {},
     "output_type": "execute_result"
    }
   ],
   "source": [
    "\n",
    "mask = ['четверо', 'собак', 'выгул']\n",
    "df_review_pets = df.copy()\n",
    "df_review_pets['ADDITIONAL_INFO'] = df_review_pets['ADDITIONAL_INFO'].apply(lambda s: 0 if isinstance(s, str) and any(sub in s.lower() for sub in mask) else 1)\n",
    "df_review_pets.head(3)\n",
    "#any(df['ADDITIONAL_INFO'] == 0)\n",
    "df_review_pets['ADDITIONAL_INFO'].value_counts()\n",
    "df_review_pets['Target_func_Ann'] = df_review_pets[list(df_review_pets.columns[1:6]) + ['ADDITIONAL_INFO']].sum(axis = 1)\n",
    "df_review_pets = df_review_pets.sort_values('Target_func_Ann')\n",
    "df_review_pets.head(3)"
   ]
  },
  {
   "cell_type": "code",
   "execution_count": 44,
   "id": "a0378f0b-2f21-4b76-97ee-d597b120cc5d",
   "metadata": {},
   "outputs": [
    {
     "data": {
      "text/plain": [
       "0"
      ]
     },
     "execution_count": 44,
     "metadata": {},
     "output_type": "execute_result"
    }
   ],
   "source": [
    "len(df[df['ADDITIONAL_INFO'] == 0])"
   ]
  }
 ],
 "metadata": {
  "kernelspec": {
   "display_name": "Python 3 (ipykernel)",
   "language": "python",
   "name": "python3"
  },
  "language_info": {
   "codemirror_mode": {
    "name": "ipython",
    "version": 3
   },
   "file_extension": ".py",
   "mimetype": "text/x-python",
   "name": "python",
   "nbconvert_exporter": "python",
   "pygments_lexer": "ipython3",
   "version": "3.13.5"
  }
 },
 "nbformat": 4,
 "nbformat_minor": 5
}
